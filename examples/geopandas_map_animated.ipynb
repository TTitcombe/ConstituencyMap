{
 "cells": [
  {
   "cell_type": "code",
   "execution_count": null,
   "metadata": {},
   "outputs": [],
   "source": [
    "import os\n",
    "\n",
    "import geopandas as gpd\n",
    "import pandas as pd\n",
    "import matplotlib.pyplot as plt\n",
    "%matplotlib inline"
   ]
  },
  {
   "cell_type": "code",
   "execution_count": null,
   "metadata": {},
   "outputs": [],
   "source": [
    "def combine_data(map_df, data_filename, map_df_index=\"constituency\", data_df_index=\"name\"):\n",
    "    data_df = pd.read_csv(data_filename, encoding='latin-1')\n",
    "    data_df.fillna(\"No MP\", inplace=True)\n",
    "    combined_df = map_df.set_index(map_df_index).join(data_df.set_index(data_df_index)).reset_index()\n",
    "    combined_df[\"mp\"].fillna(\"No MP\", inplace=True)\n",
    "    combined_df[\"signature_count\"].fillna(0, inplace=True)\n",
    "    return combined_df"
   ]
  },
  {
   "cell_type": "code",
   "execution_count": null,
   "metadata": {},
   "outputs": [],
   "source": [
    "def get_signature_percentage(combined_df, electorate_filename, combined_df_index=\"constituency\", electorate_df_index=\"constituency_name\"):\n",
    "    electorate_df = pd.read_csv(electorate_filename)\n",
    "    combined_df = combined_df.set_index(combined_df_index).join(electorate_df.set_index(electorate_df_index)).reset_index()\n",
    "    combined_df[\"electorate\"].fillna(1e10, inplace=True)  # so percentages go to 0, not NaN\n",
    "    combined_df[\"mp\"].fillna(\"No MP\", inplace=True)\n",
    "    combined_df[\"signature_count\"].fillna(0, inplace=True)\n",
    "\n",
    "    combined_df[\"signature_pc\"] = 100 * combined_df[\"signature_count\"] / combined_df[\"electorate\"]\n",
    "    return combined_df"
   ]
  },
  {
   "cell_type": "code",
   "execution_count": null,
   "metadata": {},
   "outputs": [],
   "source": [
    "def get_plot(combined_df, column, cmap=\"viridis\", vmin=0.0, vmax=100.0, plot_name=None, save_name=None):\n",
    "    fig = combined_df.plot(column=column, cmap=cmap, figsize=(10,10), linewidth=0.8, \n",
    "                           edgecolor='0.8', vmin=vmin, vmax=vmax,\n",
    "                           legend=True, norm=plt.Normalize(vmin=vmin, vmax=vmax))    \n",
    "    fig.axis('off')\n",
    "    \n",
    "    if plot_name is not None:\n",
    "        fig.set_title(plot_name,\n",
    "                      fontdict={'fontsize': '25',\n",
    "                                'fontweight' : '3'})\n",
    "    \n",
    "    chart = fig.get_figure()\n",
    "\n",
    "    if save_name is not None:\n",
    "        chart.savefig(save_name, dpi=300)\n",
    "\n",
    "    return chart"
   ]
  },
  {
   "cell_type": "code",
   "execution_count": null,
   "metadata": {},
   "outputs": [],
   "source": [
    "def plot_over_time(data_folder, electorate_filename, shapefile, save_folder=None):\n",
    "    # Get the map\n",
    "    map_df = gpd.read_file(shapefile).drop([\"objectid\"], axis=1).rename(columns={\"pcon15nm\":\"constituency\"})\n",
    "        \n",
    "    for _, _, files in os.walk(data_folder):\n",
    "        for i, file in enumerate(files):\n",
    "            if file.endswith(\".csv\"):\n",
    "                data_filename = os.path.join(data_folder, file)\n",
    "                combined_df = combine_data(map_df, data_filename)\n",
    "                combined_df = get_signature_percentage(combined_df, electorate_filename)\n",
    "                \n",
    "                plot_save_name = \"{}.png\".format(i)\n",
    "                plot_save_name = os.path.join(save_folder, plot_save_name) if save_folder is not None else plot_save_name\n",
    "                chart = get_plot(combined_df, \"signature_pc\", vmax=40.0, \n",
    "                                 plot_name=\"Revoke Article 50 Signature %\", save_name=plot_save_name)"
   ]
  },
  {
   "cell_type": "code",
   "execution_count": null,
   "metadata": {},
   "outputs": [],
   "source": [
    "data_folder = os.path.join(\"..\", \"data\", \"information\", \"revoke_article_50\")\n",
    "electorate_filename = os.path.join(\"..\", \"data\", \"information\", \"ge2015_electorate.csv\")\n",
    "shapefile = os.path.join(\"..\", \"data\", \"boundaries\", \"uk_generalized_2015.shp\")\n",
    "save_folder = os.path.join(\"..\", \"plots\", \"revoke_article_50\")"
   ]
  },
  {
   "cell_type": "code",
   "execution_count": null,
   "metadata": {},
   "outputs": [],
   "source": [
    "plot_over_time(data_folder, electorate_filename, shapefile, save_folder=save_folder)"
   ]
  }
 ],
 "metadata": {
  "kernelspec": {
   "display_name": "Python 3",
   "language": "python",
   "name": "python3"
  },
  "language_info": {
   "codemirror_mode": {
    "name": "ipython",
    "version": 3
   },
   "file_extension": ".py",
   "mimetype": "text/x-python",
   "name": "python",
   "nbconvert_exporter": "python",
   "pygments_lexer": "ipython3",
   "version": "3.6.8"
  }
 },
 "nbformat": 4,
 "nbformat_minor": 4
}
