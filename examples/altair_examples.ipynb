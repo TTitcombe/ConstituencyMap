{
 "cells": [
  {
   "cell_type": "markdown",
   "metadata": {},
   "source": [
    "# Altair examples\n",
    "This notebook demonstrates how to create various plots in Altair. It accompanies [this Medium post]()"
   ]
  },
  {
   "cell_type": "code",
   "execution_count": null,
   "metadata": {},
   "outputs": [],
   "source": [
    "import os\n",
    "\n",
    "import altair as alt\n",
    "import pandas as pd"
   ]
  },
  {
   "cell_type": "markdown",
   "metadata": {},
   "source": [
    "Prepare the data"
   ]
  },
  {
   "cell_type": "code",
   "execution_count": null,
   "metadata": {},
   "outputs": [],
   "source": [
    "map_path = os.path.join(\"..\", \"data\", \"boundaries\", \"uk_hex.csv\")\n",
    "data_path = os.path.join(\"..\", \"data\", \"map\", \"ge_2017.csv\")"
   ]
  },
  {
   "cell_type": "code",
   "execution_count": null,
   "metadata": {},
   "outputs": [],
   "source": [
    "map_df = pd.read_csv(map_path, encoding=\"latin-1\")\n",
    "data_df = pd.read_csv(data_path, encoding=\"latin-1\")"
   ]
  },
  {
   "cell_type": "code",
   "execution_count": null,
   "metadata": {},
   "outputs": [],
   "source": [
    "data_df = data_df[data_df.loc[:, \"Year\"] == 2017]\n",
    "data_df = data_df.drop([col for col in data_df.columns if \"Unnamed\" in col], axis=1)"
   ]
  },
  {
   "cell_type": "code",
   "execution_count": null,
   "metadata": {},
   "outputs": [],
   "source": [
    "data_df = data_df.drop([\"Year\", \"Region\", \"Party Abbreviation\", \"Share of Vote\", \"Candidate Votes\", \"Code\"], axis=1)\n",
    "data_df = data_df.dropna()"
   ]
  },
  {
   "cell_type": "code",
   "execution_count": null,
   "metadata": {},
   "outputs": [],
   "source": [
    "df = data_df.merge(map_df, on=\"Constituency\")"
   ]
  },
  {
   "cell_type": "code",
   "execution_count": null,
   "metadata": {},
   "outputs": [],
   "source": [
    "df[\"q\"] = df.apply(lambda row: row.q if row.r % 2 == 0 else row.q + 0.5, axis=1)"
   ]
  },
  {
   "cell_type": "markdown",
   "metadata": {},
   "source": [
    "## Basic Map\n",
    "Create a hexmap. No colours. No interactivity."
   ]
  },
  {
   "cell_type": "code",
   "execution_count": null,
   "metadata": {},
   "outputs": [],
   "source": [
    "alt.Chart(df).mark_circle().encode(\n",
    "        x=\"q\",\n",
    "        y=\"r\",\n",
    "        color=alt.value(\"lightgray\"),\n",
    "        size=alt.value(50),\n",
    "    )"
   ]
  },
  {
   "cell_type": "markdown",
   "metadata": {},
   "source": [
    "## Colour map\n",
    "Colour each constituency by the winning party"
   ]
  },
  {
   "cell_type": "code",
   "execution_count": null,
   "metadata": {},
   "outputs": [],
   "source": [
    "df[\"Party\"].unique()"
   ]
  },
  {
   "cell_type": "markdown",
   "metadata": {},
   "source": [
    "Define a colour mapping"
   ]
  },
  {
   "cell_type": "code",
   "execution_count": null,
   "metadata": {},
   "outputs": [],
   "source": [
    "parties = [\"Conservative\", \"Labour\", \"Lib Dem\", \"Green\", \"Scottish National Party\",\n",
    "          \"Plaid Cymru\", \"Sinn Fein\", \"Speaker\", \"Democratic Unionist Party\",\n",
    "          \"Independent\"]\n",
    "party_colours = [\"darkblue\", \"red\", \"orange\", \"green\", \"yellow\",\n",
    "                \"#98df8a\", \"darkgreen\", \"lightgray\", \"#ad494a\", \"gold\"]"
   ]
  },
  {
   "cell_type": "code",
   "execution_count": null,
   "metadata": {},
   "outputs": [],
   "source": [
    "colours_obj = alt.Color(\"Party:N\", scale=alt.Scale(domain=parties, range=party_colours), legend=None)"
   ]
  },
  {
   "cell_type": "code",
   "execution_count": null,
   "metadata": {},
   "outputs": [],
   "source": [
    "hexmap = alt.Chart(df).mark_circle().encode(\n",
    "        x=\"q\",\n",
    "        y=\"r\",\n",
    "        color=colours_obj,\n",
    "        size=alt.value(50),\n",
    "    )\n",
    "\n",
    "legend = alt.Chart(df).mark_circle().encode(\n",
    "            y=alt.Y(\"Party:N\", axis=alt.Axis(orient=\"right\")), color=colours_obj\n",
    "        )\n",
    "\n",
    "hexmap | legend"
   ]
  },
  {
   "cell_type": "markdown",
   "metadata": {},
   "source": [
    "## Basic interactivity\n",
    "Add a tooltip for extra information"
   ]
  },
  {
   "cell_type": "code",
   "execution_count": null,
   "metadata": {},
   "outputs": [],
   "source": [
    "alt.Chart(df).mark_circle().encode(\n",
    "        x=\"q\",\n",
    "        y=\"r\",\n",
    "        color=colours_obj,\n",
    "        size=alt.value(50),\n",
    "        tooltip=[\"Constituency:N\"],\n",
    "    ).interactive()"
   ]
  },
  {
   "cell_type": "markdown",
   "metadata": {},
   "source": [
    "## More interactivity\n",
    "Highlight all constituencies belonging to a selected party"
   ]
  },
  {
   "cell_type": "markdown",
   "metadata": {},
   "source": [
    "Create the selection object"
   ]
  },
  {
   "cell_type": "code",
   "execution_count": null,
   "metadata": {},
   "outputs": [],
   "source": [
    "selector = alt.selection_single(empty='all', fields=['Party'])"
   ]
  },
  {
   "cell_type": "markdown",
   "metadata": {},
   "source": [
    "Creat the conditional colouring"
   ]
  },
  {
   "cell_type": "code",
   "execution_count": null,
   "metadata": {},
   "outputs": [],
   "source": [
    "colours_condition = alt.condition(selector, colours_obj, alt.value(\"white\"))"
   ]
  },
  {
   "cell_type": "markdown",
   "metadata": {},
   "source": [
    "Create the map and legend"
   ]
  },
  {
   "cell_type": "code",
   "execution_count": null,
   "metadata": {},
   "outputs": [],
   "source": [
    "hexmap = alt.Chart(df).mark_circle().encode(\n",
    "        x=\"q\",\n",
    "        y=\"r\",\n",
    "        color=colours_condition,\n",
    "        size=alt.value(50),\n",
    "        tooltip=[\"Constituency:N\"],\n",
    "    ).interactive().add_selection(selector)\n",
    "\n",
    "legend = alt.Chart(df).mark_circle().encode(\n",
    "            y=alt.Y(\"Party:N\", axis=alt.Axis(orient=\"right\")), color=colours_obj\n",
    "        ).add_selection(selector)\n",
    "\n",
    "hexmap | legend"
   ]
  },
  {
   "cell_type": "markdown",
   "metadata": {},
   "source": [
    "Click on a circle, either in the map or the legend, to see the interactivity"
   ]
  },
  {
   "cell_type": "markdown",
   "metadata": {},
   "source": [
    "## Adding another chart"
   ]
  },
  {
   "cell_type": "code",
   "execution_count": null,
   "metadata": {},
   "outputs": [],
   "source": [
    "df[\"threshold\"] = 325."
   ]
  },
  {
   "cell_type": "code",
   "execution_count": null,
   "metadata": {},
   "outputs": [],
   "source": [
    "bars = alt.Chart(df).mark_bar().encode(\n",
    "            x=\"Party:N\",\n",
    "            y=alt.Y(\"count()\", title=\"Number of MPs\"),\n",
    "            color=colours_condition\n",
    "        ).add_selection(selector)\n",
    "\n",
    "majority = alt.Chart(df).mark_rule(color=\"black\", strokeDash=[1, 1]).encode(\n",
    "    y=\"threshold:Q\",\n",
    "    size=alt.value(3)\n",
    ")\n",
    "\n",
    "legend | hexmap | (bars + majority)"
   ]
  },
  {
   "cell_type": "code",
   "execution_count": null,
   "metadata": {},
   "outputs": [],
   "source": []
  }
 ],
 "metadata": {
  "kernelspec": {
   "display_name": "Python 3",
   "language": "python",
   "name": "python3"
  },
  "language_info": {
   "codemirror_mode": {
    "name": "ipython",
    "version": 3
   },
   "file_extension": ".py",
   "mimetype": "text/x-python",
   "name": "python",
   "nbconvert_exporter": "python",
   "pygments_lexer": "ipython3",
   "version": "3.7.3"
  }
 },
 "nbformat": 4,
 "nbformat_minor": 4
}
